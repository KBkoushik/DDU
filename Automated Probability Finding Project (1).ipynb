{
 "cells": [
  {
   "cell_type": "code",
   "execution_count": 73,
   "id": "762a5eb8",
   "metadata": {},
   "outputs": [],
   "source": [
    "import pandas as pd\n",
    "import numpy as np"
   ]
  },
  {
   "cell_type": "code",
   "execution_count": 74,
   "id": "d6ddff2f",
   "metadata": {},
   "outputs": [],
   "source": [
    "df=pd.read_excel(\"Book2.xlsx\")"
   ]
  },
  {
   "cell_type": "code",
   "execution_count": 75,
   "id": "8363a16c",
   "metadata": {},
   "outputs": [
    {
     "data": {
      "text/html": [
       "<div>\n",
       "<style scoped>\n",
       "    .dataframe tbody tr th:only-of-type {\n",
       "        vertical-align: middle;\n",
       "    }\n",
       "\n",
       "    .dataframe tbody tr th {\n",
       "        vertical-align: top;\n",
       "    }\n",
       "\n",
       "    .dataframe thead th {\n",
       "        text-align: right;\n",
       "    }\n",
       "</style>\n",
       "<table border=\"1\" class=\"dataframe\">\n",
       "  <thead>\n",
       "    <tr style=\"text-align: right;\">\n",
       "      <th></th>\n",
       "      <th>post/region</th>\n",
       "      <th>northest</th>\n",
       "      <th>southest</th>\n",
       "      <th>midwest</th>\n",
       "      <th>west</th>\n",
       "    </tr>\n",
       "  </thead>\n",
       "  <tbody>\n",
       "    <tr>\n",
       "      <th>0</th>\n",
       "      <td>finance</td>\n",
       "      <td>24</td>\n",
       "      <td>10</td>\n",
       "      <td>8</td>\n",
       "      <td>14</td>\n",
       "    </tr>\n",
       "    <tr>\n",
       "      <th>1</th>\n",
       "      <td>manufacturing</td>\n",
       "      <td>30</td>\n",
       "      <td>6</td>\n",
       "      <td>22</td>\n",
       "      <td>12</td>\n",
       "    </tr>\n",
       "    <tr>\n",
       "      <th>2</th>\n",
       "      <td>communication</td>\n",
       "      <td>28</td>\n",
       "      <td>18</td>\n",
       "      <td>12</td>\n",
       "      <td>16</td>\n",
       "    </tr>\n",
       "  </tbody>\n",
       "</table>\n",
       "</div>"
      ],
      "text/plain": [
       "     post/region  northest  southest  midwest  west\n",
       "0        finance        24        10        8    14\n",
       "1  manufacturing        30         6       22    12\n",
       "2  communication        28        18       12    16"
      ]
     },
     "execution_count": 75,
     "metadata": {},
     "output_type": "execute_result"
    }
   ],
   "source": [
    "df"
   ]
  },
  {
   "cell_type": "code",
   "execution_count": 76,
   "id": "30f89189",
   "metadata": {},
   "outputs": [
    {
     "data": {
      "text/plain": [
       "Index(['post/region', 'northest', 'southest', 'midwest', 'west'], dtype='object')"
      ]
     },
     "execution_count": 76,
     "metadata": {},
     "output_type": "execute_result"
    }
   ],
   "source": [
    "df.columns"
   ]
  },
  {
   "cell_type": "code",
   "execution_count": 77,
   "id": "c4755b12",
   "metadata": {},
   "outputs": [
    {
     "data": {
      "text/plain": [
       "['northest', 'southest', 'midwest', 'west']"
      ]
     },
     "execution_count": 77,
     "metadata": {},
     "output_type": "execute_result"
    }
   ],
   "source": [
    "num_column=[]\n",
    "for i in range(df.shape[1]):\n",
    "    if df[df.columns[i]].dtypes!='O':\n",
    "        num_column.append(df.columns[i])\n",
    "        \n",
    "        \n",
    "num_column"
   ]
  },
  {
   "cell_type": "code",
   "execution_count": 78,
   "id": "1a4d6df6",
   "metadata": {},
   "outputs": [
    {
     "data": {
      "text/plain": [
       "56"
      ]
     },
     "execution_count": 78,
     "metadata": {},
     "output_type": "execute_result"
    }
   ],
   "source": [
    "sum(df.loc[0,num_column])"
   ]
  },
  {
   "cell_type": "code",
   "execution_count": 79,
   "id": "8ea12eee",
   "metadata": {},
   "outputs": [
    {
     "data": {
      "text/html": [
       "<div>\n",
       "<style scoped>\n",
       "    .dataframe tbody tr th:only-of-type {\n",
       "        vertical-align: middle;\n",
       "    }\n",
       "\n",
       "    .dataframe tbody tr th {\n",
       "        vertical-align: top;\n",
       "    }\n",
       "\n",
       "    .dataframe thead th {\n",
       "        text-align: right;\n",
       "    }\n",
       "</style>\n",
       "<table border=\"1\" class=\"dataframe\">\n",
       "  <thead>\n",
       "    <tr style=\"text-align: right;\">\n",
       "      <th></th>\n",
       "      <th>post/region</th>\n",
       "      <th>northest</th>\n",
       "      <th>southest</th>\n",
       "      <th>midwest</th>\n",
       "      <th>west</th>\n",
       "      <th>total</th>\n",
       "    </tr>\n",
       "  </thead>\n",
       "  <tbody>\n",
       "    <tr>\n",
       "      <th>0</th>\n",
       "      <td>finance</td>\n",
       "      <td>24</td>\n",
       "      <td>10</td>\n",
       "      <td>8</td>\n",
       "      <td>14</td>\n",
       "      <td>56</td>\n",
       "    </tr>\n",
       "    <tr>\n",
       "      <th>1</th>\n",
       "      <td>manufacturing</td>\n",
       "      <td>30</td>\n",
       "      <td>6</td>\n",
       "      <td>22</td>\n",
       "      <td>12</td>\n",
       "      <td>70</td>\n",
       "    </tr>\n",
       "    <tr>\n",
       "      <th>2</th>\n",
       "      <td>communication</td>\n",
       "      <td>28</td>\n",
       "      <td>18</td>\n",
       "      <td>12</td>\n",
       "      <td>16</td>\n",
       "      <td>74</td>\n",
       "    </tr>\n",
       "  </tbody>\n",
       "</table>\n",
       "</div>"
      ],
      "text/plain": [
       "     post/region  northest  southest  midwest  west  total\n",
       "0        finance        24        10        8    14     56\n",
       "1  manufacturing        30         6       22    12     70\n",
       "2  communication        28        18       12    16     74"
      ]
     },
     "execution_count": 79,
     "metadata": {},
     "output_type": "execute_result"
    }
   ],
   "source": [
    "list1=[]\n",
    "for i in range(df.shape[0]):\n",
    "    list1.append(sum(df.loc[i,num_column]))\n",
    "df['total']=list1\n",
    "df"
   ]
  },
  {
   "cell_type": "code",
   "execution_count": null,
   "id": "c14b8c95",
   "metadata": {},
   "outputs": [],
   "source": []
  },
  {
   "cell_type": "code",
   "execution_count": 80,
   "id": "2ddefcec",
   "metadata": {},
   "outputs": [
    {
     "data": {
      "text/plain": [
       "{'post/region': 'total',\n",
       " 'northest': 82,\n",
       " 'southest': 34,\n",
       " 'midwest': 42,\n",
       " 'west': 42,\n",
       " 'total': 200}"
      ]
     },
     "execution_count": 80,
     "metadata": {},
     "output_type": "execute_result"
    }
   ],
   "source": [
    "dict1={df.columns[0]:'total'}\n",
    "for i in range(1,df.shape[1]):\n",
    "    dict1[df.columns[i]]=df[df.columns[i]].sum()\n",
    "    \n",
    "\n",
    "df = df.append(dict1, ignore_index = True)\n",
    "dict1"
   ]
  },
  {
   "cell_type": "code",
   "execution_count": 81,
   "id": "5f108e28",
   "metadata": {},
   "outputs": [
    {
     "data": {
      "text/html": [
       "<div>\n",
       "<style scoped>\n",
       "    .dataframe tbody tr th:only-of-type {\n",
       "        vertical-align: middle;\n",
       "    }\n",
       "\n",
       "    .dataframe tbody tr th {\n",
       "        vertical-align: top;\n",
       "    }\n",
       "\n",
       "    .dataframe thead th {\n",
       "        text-align: right;\n",
       "    }\n",
       "</style>\n",
       "<table border=\"1\" class=\"dataframe\">\n",
       "  <thead>\n",
       "    <tr style=\"text-align: right;\">\n",
       "      <th></th>\n",
       "      <th>post/region</th>\n",
       "      <th>northest</th>\n",
       "      <th>southest</th>\n",
       "      <th>midwest</th>\n",
       "      <th>west</th>\n",
       "      <th>total</th>\n",
       "    </tr>\n",
       "  </thead>\n",
       "  <tbody>\n",
       "    <tr>\n",
       "      <th>0</th>\n",
       "      <td>finance</td>\n",
       "      <td>24</td>\n",
       "      <td>10</td>\n",
       "      <td>8</td>\n",
       "      <td>14</td>\n",
       "      <td>56</td>\n",
       "    </tr>\n",
       "    <tr>\n",
       "      <th>1</th>\n",
       "      <td>manufacturing</td>\n",
       "      <td>30</td>\n",
       "      <td>6</td>\n",
       "      <td>22</td>\n",
       "      <td>12</td>\n",
       "      <td>70</td>\n",
       "    </tr>\n",
       "    <tr>\n",
       "      <th>2</th>\n",
       "      <td>communication</td>\n",
       "      <td>28</td>\n",
       "      <td>18</td>\n",
       "      <td>12</td>\n",
       "      <td>16</td>\n",
       "      <td>74</td>\n",
       "    </tr>\n",
       "    <tr>\n",
       "      <th>3</th>\n",
       "      <td>total</td>\n",
       "      <td>82</td>\n",
       "      <td>34</td>\n",
       "      <td>42</td>\n",
       "      <td>42</td>\n",
       "      <td>200</td>\n",
       "    </tr>\n",
       "  </tbody>\n",
       "</table>\n",
       "</div>"
      ],
      "text/plain": [
       "     post/region  northest  southest  midwest  west  total\n",
       "0        finance        24        10        8    14     56\n",
       "1  manufacturing        30         6       22    12     70\n",
       "2  communication        28        18       12    16     74\n",
       "3          total        82        34       42    42    200"
      ]
     },
     "execution_count": 81,
     "metadata": {},
     "output_type": "execute_result"
    }
   ],
   "source": [
    "df"
   ]
  },
  {
   "cell_type": "code",
   "execution_count": 82,
   "id": "a354dd7e",
   "metadata": {},
   "outputs": [],
   "source": [
    "class color:\n",
    "   PURPLE = '\\033[95m'\n",
    "   CYAN = '\\033[96m'\n",
    "   DARKCYAN = '\\033[36m'\n",
    "   BLUE = '\\033[94m'\n",
    "   GREEN = '\\033[92m'\n",
    "   YELLOW = '\\033[93m'\n",
    "   RED = '\\033[91m'\n",
    "   BOLD = '\\033[1m'\n",
    "   UNDERLINE = '\\033[4m'\n",
    "   END = '\\033[0m'"
   ]
  },
  {
   "cell_type": "code",
   "execution_count": 83,
   "id": "39d1787d",
   "metadata": {},
   "outputs": [],
   "source": [
    "c_list=['BLUE','PURPLE','CYAN','DARKCYAN','GREEN','YELLOW','RED']"
   ]
  },
  {
   "cell_type": "code",
   "execution_count": 87,
   "id": "58ab22ff",
   "metadata": {},
   "outputs": [
    {
     "name": "stdout",
     "output_type": "stream",
     "text": [
      "\u001b[4mRead the Instruction before enter a input\u001b[0m\n",
      "\n",
      "\n",
      "\u001b[36m\u001b[1mFor UNION Press 1\u001b[0m\n",
      "\u001b[95m\u001b[1mFor INTERSECTION Press 2\u001b[0m\n",
      "\u001b[96m\u001b[1mFor PROBABILITY MATRIX Press 3\u001b[0m\n",
      "\u001b[91m\u001b[1mFor EXIT Press 4\u001b[0m\n",
      "\n",
      "\n",
      "Your input = 3\n",
      "\u001b[92m\u001b[1mFor Intersection you have to choose two data\u001b[0m\n",
      "\n",
      "\n",
      "\u001b[36m\u001b[1m  post/region  northest  southest  midwest  west  total\n",
      "      finance      0.12      0.05     0.04  0.07   0.28\n",
      "manufacturing      0.15      0.03     0.11  0.06   0.35\n",
      "communication      0.14      0.09     0.06  0.08   0.37\n",
      "        total      0.41      0.17     0.21  0.21   1.00\u001b[0m\n",
      "\n",
      "\n",
      "\n",
      "\u001b[4mRead the Instruction before enter a input\u001b[0m\n",
      "\n",
      "\n",
      "\u001b[36m\u001b[1mFor UNION Press 1\u001b[0m\n",
      "\u001b[95m\u001b[1mFor INTERSECTION Press 2\u001b[0m\n",
      "\u001b[96m\u001b[1mFor PROBABILITY MATRIX Press 3\u001b[0m\n",
      "\u001b[91m\u001b[1mFor EXIT Press 4\u001b[0m\n",
      "\n",
      "\n",
      "Your input = 4\n",
      "\u001b[92m\u001b[1mFor Intersection you have to choose two data\u001b[0m\n",
      "\n",
      "\n",
      "\u001b[92m\u001b[1mI THINK YOU GET YOUR ANSWER\u001b[0m\n",
      "\u001b[92m\u001b[1mTHANK YOU FOR CHECKING THIS CODE\u001b[0m\n",
      "\n",
      "\n",
      "\n"
     ]
    }
   ],
   "source": [
    "while True:\n",
    "    print(color.UNDERLINE + \"Read the Instruction before enter a input\" + color.END)\n",
    "    print('\\n'*1)\n",
    "    print(color.DARKCYAN + color.BOLD +'For UNION Press 1' + color.END, ) \n",
    "    print(color.PURPLE + color.BOLD +'For INTERSECTION Press 2' + color.END, ) \n",
    "    print(color.CYAN + color.BOLD +'For PROBABILITY MATRIX Press 3' + color.END, )\n",
    "    print(color.RED + color.BOLD +'For EXIT Press 4' + color.END, )\n",
    "    \n",
    "    print('\\n'*1)\n",
    "    x1=input(\"Your input = \")\n",
    "    \n",
    "    print(color.GREEN + color.BOLD +'For Intersection you have to choose two data' + color.END)\n",
    "    print('\\n'*1)\n",
    "    if x1=='1' or x1=='2':\n",
    "        for i in range(0,df.shape[0]-1):\n",
    "            print(f\"{getattr(color, c_list[i]) + color.BOLD} for {df.loc[i,df.columns[0]]} press: {i}\")\n",
    "\n",
    "        x2=int(input(\"Your input = \"))\n",
    "        print('\\n'*1)\n",
    "\n",
    "\n",
    "        if x2 in range(0,df.shape[0]-1):\n",
    "            for i in range(1,df.shape[1]-1):\n",
    "                print(f\"{getattr(color, c_list[i]) + color.BOLD} for {df.columns[i]} press: {i}\")\n",
    "\n",
    "            x3=int(input(\"Your input = \"))\n",
    "            if x3 in range(1,df.shape[1]-1):\n",
    "                x4=df.columns[x3]\n",
    "\n",
    "\n",
    "                if x1=='1':\n",
    "                    op=df.loc[df.shape[0]-1,x4] + df.loc[x2,df.columns[df.shape[1]-1]] - df.loc[x2,x4]\n",
    "                    total=df.loc[df.shape[0]-1,df.columns[df.shape[1]-1]]\n",
    "                    print(f\"{color.BLUE + color.UNDERLINE} From the given data Union of {df.loc[x2,df.columns[0]]} and {df.columns[x3]} is {color.END} {color.BOLD + color.RED}{round(op/total,4)}{color.END}\")\n",
    "                    print(\"#\"*70)\n",
    "                    print('\\n'*2)\n",
    "\n",
    "                elif x1=='2':\n",
    "                    op=df.loc[x2,x4]\n",
    "                    total=df.loc[df.shape[0]-1,df.columns[df.shape[1]-1]]\n",
    "                    print(f\"{color.BLUE + color.UNDERLINE} From the given data Intersection of {df.loc[x2,df.columns[0]]} and {df.columns[x3]} is {color.END} {color.BOLD + color.RED}{round(op/total,4)}{color.END}\")\n",
    "                    print(\"#\"*70)\n",
    "                    print('\\n'*2)\n",
    "\n",
    "\n",
    "\n",
    "            else:\n",
    "                print(color.RED + color.BOLD +'MAY BE SOME INVALIED INPUT' + color.END,)\n",
    "        else:\n",
    "            print(color.RED + color.BOLD +'MAY BE SOME INVALIED INPUT' + color.END,)\n",
    "    elif x1=='3':\n",
    "        pro_df=df.copy()\n",
    "        num_column=[]\n",
    "        for i in range(df.shape[1]):\n",
    "            if df[df.columns[i]].dtypes!='O':\n",
    "                num_column.append(df.columns[i])\n",
    "        for col in num_column:\n",
    "            total=df.loc[df.shape[0]-1,df.columns[df.shape[1]-1]]\n",
    "            pro_df[col]=df[col]/total\n",
    "        formatted_pro_df = pro_df.to_string(index=False)  # Convert DataFrame to string\n",
    "\n",
    "        print(color.DARKCYAN + color.BOLD + formatted_pro_df + color.END)\n",
    "        print('\\n' * 2)\n",
    "        \n",
    "    \n",
    "    elif x1=='4':\n",
    "        print(color.GREEN + color.BOLD +'I THINK YOU GET YOUR ANSWER' + color.END,)\n",
    "        print(color.GREEN + color.BOLD +'THANK YOU FOR CHECKING THIS CODE' + color.END,)\n",
    "        print('\\n'*2)\n",
    "        break\n",
    "\n",
    "    else:\n",
    "        print(color.RED + color.BOLD +'MAY BE SOME INVALIED INPUT' + color.END,)\n",
    "        print('\\n'*2)\n",
    "\n",
    "                  "
   ]
  },
  {
   "cell_type": "code",
   "execution_count": null,
   "id": "62edd200",
   "metadata": {},
   "outputs": [],
   "source": []
  },
  {
   "cell_type": "code",
   "execution_count": null,
   "id": "56a64b83",
   "metadata": {},
   "outputs": [],
   "source": []
  },
  {
   "cell_type": "code",
   "execution_count": 33,
   "id": "b49b503b",
   "metadata": {},
   "outputs": [
    {
     "name": "stdout",
     "output_type": "stream",
     "text": [
      "\u001b[4mRead the Instruction before entering input\u001b[0m\n",
      "\n",
      "\n",
      "\u001b[36m\u001b[1mFor UNION Press 1\u001b[0m\n",
      "\u001b[95m\u001b[1mFor INTERSECTION Press 2\u001b[0m\n",
      "\u001b[91m\u001b[1mFor EXIT Press 3\u001b[0m\n",
      "\n",
      "\n",
      "Your input = 1\n",
      "\u001b[92m\u001b[1mFor Intersection you have to choose two data\u001b[0m\n",
      "\n",
      "\n",
      "for finance press: 0\n",
      "for manufacturing press: 1\n",
      "for communication press: 2\n",
      "for total press: 3\n",
      "Your input = 1\n",
      "for northest press: 1\n",
      "for southest press: 2\n",
      "for midwest press: 3\n",
      "for west press: 4\n",
      "for total press: 5\n",
      "Your input = 4\n",
      "From the given data Union of manufacturing and west is 0.5\n",
      "##################################################\n",
      "\n",
      "\n",
      "\n",
      "\u001b[4mRead the Instruction before entering input\u001b[0m\n",
      "\n",
      "\n",
      "\u001b[36m\u001b[1mFor UNION Press 1\u001b[0m\n",
      "\u001b[95m\u001b[1mFor INTERSECTION Press 2\u001b[0m\n",
      "\u001b[91m\u001b[1mFor EXIT Press 3\u001b[0m\n",
      "\n",
      "\n",
      "Your input = 3\n",
      "\u001b[92m\u001b[1mI THINK YOU GET YOUR ANSWER\u001b[0m\n",
      "\u001b[92m\u001b[1mTHANK YOU FOR CHECKING THIS CODE\u001b[0m\n",
      "\n",
      "\n",
      "\n"
     ]
    }
   ],
   "source": [
    "while True:\n",
    "    print(color.UNDERLINE + \"Read the Instruction before entering input\" + color.END)\n",
    "    print('\\n' * 1)\n",
    "    print(color.DARKCYAN + color.BOLD + 'For UNION Press 1' + color.END)\n",
    "    print(color.PURPLE + color.BOLD + 'For INTERSECTION Press 2' + color.END)\n",
    "    print(color.RED + color.BOLD + 'For EXIT Press 3' + color.END)\n",
    "    print('\\n' * 1)\n",
    "    x1 = input(\"Your input = \")\n",
    "\n",
    "    def print_data_options():\n",
    "        for i in range(df.shape[0]):\n",
    "            print(f\"for {df.loc[i, df.columns[0]]} press: {i}\")\n",
    "\n",
    "    if x1 == '1' or x1 == '2':\n",
    "        print(color.GREEN + color.BOLD + 'For Intersection you have to choose two data' + color.END)\n",
    "        print('\\n' * 1)\n",
    "        print_data_options()\n",
    "        x2 = int(input(\"Your input = \"))\n",
    "\n",
    "        if x2 in range(df.shape[0]):\n",
    "            for i in range(1, df.shape[1]):\n",
    "                print(f\"for {df.columns[i]} press: {i}\")\n",
    "\n",
    "            x3 = int(input(\"Your input = \"))\n",
    "            if x3 in range(1, df.shape[1]):\n",
    "                x4 = df.columns[x3]\n",
    "\n",
    "                if x1 == '1':\n",
    "                    op = df.loc[df.shape[0] - 1, x4] + df.loc[x2, df.columns[df.shape[1] - 1]] - df.loc[x2, x4]\n",
    "                    print(f\"From the given data Union of {df.loc[x2, df.columns[0]]} and {df.columns[x3]} is {op / total}\")\n",
    "                elif x1 == '2':\n",
    "                    op = df.loc[x2, x4]\n",
    "                    print(f\"From the given data Intersection of {df.loc[x2, df.columns[0]]} and {df.columns[x3]} is {op / total}\")\n",
    "\n",
    "                total = df.loc[df.shape[0] - 1, df.columns[df.shape[1] - 1]]\n",
    "                print(\"#\" * 50)\n",
    "                print('\\n' * 2)\n",
    "            else:\n",
    "                print(color.RED + color.BOLD + 'MAY BE SOME INVALID INPUT' + color.END)\n",
    "        else:\n",
    "            print(color.RED + color.BOLD + 'MAY BE SOME INVALID INPUT' + color.END)\n",
    "\n",
    "    elif x1 == '3':\n",
    "        print(color.GREEN + color.BOLD + 'I THINK YOU GOT YOUR ANSWER' + color.END)\n",
    "        print(color.GREEN + color.BOLD + 'THANK YOU FOR CHECKING THIS CODE' + color.END)\n",
    "        print('\\n' * 2)\n",
    "        break\n",
    "\n",
    "    else:\n",
    "        print(color.RED + color.BOLD + 'MAY BE SOME INVALID INPUT' + color.END)\n",
    "        print('\\n' * 2)\n"
   ]
  },
  {
   "cell_type": "code",
   "execution_count": null,
   "id": "cfaead61",
   "metadata": {},
   "outputs": [],
   "source": []
  },
  {
   "cell_type": "code",
   "execution_count": null,
   "id": "9c620c56",
   "metadata": {},
   "outputs": [],
   "source": []
  },
  {
   "cell_type": "code",
   "execution_count": null,
   "id": "7a9abe9d",
   "metadata": {},
   "outputs": [],
   "source": []
  },
  {
   "cell_type": "code",
   "execution_count": null,
   "id": "f0f3c94a",
   "metadata": {},
   "outputs": [],
   "source": []
  },
  {
   "cell_type": "code",
   "execution_count": null,
   "id": "bf9be7cc",
   "metadata": {},
   "outputs": [],
   "source": []
  },
  {
   "cell_type": "code",
   "execution_count": null,
   "id": "23f52f85",
   "metadata": {},
   "outputs": [],
   "source": []
  },
  {
   "cell_type": "code",
   "execution_count": null,
   "id": "5f52052d",
   "metadata": {},
   "outputs": [],
   "source": []
  },
  {
   "cell_type": "code",
   "execution_count": null,
   "id": "c314f4e3",
   "metadata": {},
   "outputs": [],
   "source": []
  },
  {
   "cell_type": "code",
   "execution_count": null,
   "id": "a6a0fbd2",
   "metadata": {},
   "outputs": [],
   "source": []
  },
  {
   "cell_type": "code",
   "execution_count": null,
   "id": "b0dfbe17",
   "metadata": {},
   "outputs": [],
   "source": []
  },
  {
   "cell_type": "code",
   "execution_count": null,
   "id": "80e50018",
   "metadata": {},
   "outputs": [],
   "source": []
  }
 ],
 "metadata": {
  "kernelspec": {
   "display_name": "Python 3",
   "language": "python",
   "name": "python3"
  },
  "language_info": {
   "codemirror_mode": {
    "name": "ipython",
    "version": 3
   },
   "file_extension": ".py",
   "mimetype": "text/x-python",
   "name": "python",
   "nbconvert_exporter": "python",
   "pygments_lexer": "ipython3",
   "version": "3.8.8"
  }
 },
 "nbformat": 4,
 "nbformat_minor": 5
}
